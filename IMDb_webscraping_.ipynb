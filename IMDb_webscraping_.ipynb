{
 "cells": [
  {
   "cell_type": "code",
   "execution_count": 1,
   "id": "e6bb9149",
   "metadata": {},
   "outputs": [],
   "source": [
    "from selenium import webdriver\n",
    "import time\n",
    "import csv\n",
    "import pandas as pd\n",
    "from bs4 import BeautifulSoup\n",
    "from selenium.webdriver.chrome.options import Options\n",
    "driver=webdriver.Chrome()"
   ]
  },
  {
   "cell_type": "code",
   "execution_count": 2,
   "id": "7cae692e",
   "metadata": {},
   "outputs": [],
   "source": [
    "#Creating a Template URL\n",
    "def get_url(search_term):\n",
    "    \"\"\" Generate a URL for the search term\"\"\"\n",
    "    template=\"https://www.amazon.com/s?k={}&crid=3JKZD4EXHPZC&sprefix=%2Caps%2C432&ref=nb_sb_ss_recent_1_0_recent\"\n",
    "    search_term=search_term.replace(' ','+')\n",
    "    return template.format(search_term)"
   ]
  },
  {
   "cell_type": "code",
   "execution_count": 3,
   "id": "2aecdecc",
   "metadata": {},
   "outputs": [
    {
     "name": "stdout",
     "output_type": "stream",
     "text": [
      "https://www.amazon.com/s?k=keyboard&crid=3JKZD4EXHPZC&sprefix=%2Caps%2C432&ref=nb_sb_ss_recent_1_0_recent\n"
     ]
    }
   ],
   "source": [
    "url=get_url('keyboard')\n",
    "print(url)"
   ]
  },
  {
   "cell_type": "code",
   "execution_count": 4,
   "id": "fc762652",
   "metadata": {},
   "outputs": [],
   "source": [
    "driver.get(url)"
   ]
  },
  {
   "cell_type": "code",
   "execution_count": 5,
   "id": "077eadfc",
   "metadata": {},
   "outputs": [
    {
     "data": {
      "text/plain": [
       "22"
      ]
     },
     "execution_count": 5,
     "metadata": {},
     "output_type": "execute_result"
    }
   ],
   "source": [
    "# Reading The HTML websit\n",
    "soup=BeautifulSoup(driver.page_source,'html.parser')\n",
    "results=soup.find_all('div',{'data-component-type':'s-search-result'})\n",
    "len(results)"
   ]
  },
  {
   "cell_type": "code",
   "execution_count": 6,
   "id": "38845df9",
   "metadata": {},
   "outputs": [
    {
     "data": {
      "text/plain": [
       "'Amazon Basics Low-Profile Wired USB Keyboard with US Layout (QWERTY), Matte Black'"
      ]
     },
     "execution_count": 6,
     "metadata": {},
     "output_type": "execute_result"
    }
   ],
   "source": [
    "# Extracting the description\n",
    "item=results[0]\n",
    "item.h2.a.text.strip()"
   ]
  },
  {
   "cell_type": "code",
   "execution_count": 7,
   "id": "efdcf41d",
   "metadata": {},
   "outputs": [
    {
     "data": {
      "text/plain": [
       "'17.'"
      ]
     },
     "execution_count": 7,
     "metadata": {},
     "output_type": "execute_result"
    }
   ],
   "source": [
    "# Price of the item\n",
    "price_parent=item.find('span','a-price')\n",
    "price=price_parent.find('span','a-price-whole').text.strip()\n",
    "price"
   ]
  },
  {
   "cell_type": "code",
   "execution_count": 8,
   "id": "284092ff",
   "metadata": {},
   "outputs": [],
   "source": [
    "def get_url(search_term):\n",
    "    \"\"\" Generate a URL for the search term\"\"\"\n",
    "    template=\"https://www.amazon.com/s?k={}&crid=3JKZD4EXHPZC&sprefix=%2Caps%2C432&ref=nb_sb_ss_recent_1_0_recent\"\n",
    "    search_term=search_term.replace(' ','+')\n",
    "\n",
    "    #add term query to url\n",
    "    url=template.format(search_term)\n",
    "\n",
    "    #add page query place holder\n",
    "    url += '&page{}'\n",
    "\n",
    "    return url"
   ]
  },
  {
   "cell_type": "code",
   "execution_count": 9,
   "id": "288da8eb",
   "metadata": {},
   "outputs": [],
   "source": [
    "def extract_record(item):\n",
    "    # Extract description and URL\n",
    "    atag = item.h2.a\n",
    "    description = atag.text.strip()  # Get the text of the 'a' tag (product description)\n",
    "    url = \"https://www.amazon.com\" + atag.get('href')  # Construct the complete URL for the product\n",
    "\n",
    "    try:\n",
    "        # Extract price\n",
    "        price_parent = item.find('span', 'a-price')  # Find the parent element containing the price\n",
    "        price = price_parent.find('span', 'a-price-whole').text.strip()  # Get the price text\n",
    "    except AttributeError:\n",
    "        # If price information is not available, return None\n",
    "        return None\n",
    "\n",
    "    try:\n",
    "        # Extract rating and review count\n",
    "        rating = item.i.text  # Get the rating text\n",
    "        review_count = item.find('span', {'class': 'a-size-base'}).text  # Get the review count text\n",
    "    except AttributeError:\n",
    "        # If rating or review count information is not available, set them to empty strings\n",
    "        rating = ''\n",
    "        review_count = ''\n",
    "\n",
    "    # Create a tuple containing the extracted data\n",
    "    result = (description, price, rating, review_count, url)\n",
    "\n",
    "    return result\n"
   ]
  },
  {
   "cell_type": "code",
   "execution_count": 10,
   "id": "20cb8d84",
   "metadata": {},
   "outputs": [],
   "source": [
    "\n",
    "def search_query(search_term):\n",
    "    \"\"\"Run main program routine\"\"\"\n",
    "\n",
    "    # Start up the webdriver\n",
    "    # This code is for google chrome driver if running else where then change this Chrome driver path with your own path,\n",
    "    chrome_options = Options()\n",
    "    driver = webdriver.Chrome(options=chrome_options)\n",
    "\n",
    "    records = []  # Create an empty list to store the extracted data\n",
    "    url = get_url(search_term)  # Get the initial URL for the search term\n",
    "\n",
    "    # Loop through 20 pages of search results\n",
    "    for page in range(1, 21):\n",
    "        driver.get(url.format(page))  # Load the page in the webdriver\n",
    "        soup = BeautifulSoup(driver.page_source, 'html.parser')  # Parse the HTML content of the page\n",
    "        results = soup.find_all('div', {'data-component-type': 's-search-result'})  # Find all search result items\n",
    "\n",
    "        # Loop through each search result item and extract data\n",
    "        for item in results:\n",
    "            record = extract_record(item)  # Extract data from the current search result item\n",
    "            if record:\n",
    "                records.append(extract_record(item))  # Append the extracted data to the records list\n",
    "\n",
    "    driver.close()  # Close the webdriver\n",
    "\n",
    "    df = pd.DataFrame(records, columns=['Description', 'Price(Rs)', 'Rating', 'Review Count', 'Url of the Product'])\n",
    "\n",
    "    # Display the DataFrame as a table in the console\n",
    "    display(df)\n",
    "\n",
    "    filename = search_term + \".csv\"  # Create a CSV file name based on the search term\n",
    "\n",
    "    # Save the data to a CSV file\n",
    "    with open(filename, \"w\", newline='', encoding='utf-8') as f:\n",
    "        writer = csv.writer(f)  # Create a CSV writer\n",
    "        writer.writerow(['Description', 'Price(Rs)', 'Rating', 'Review Count', 'Url of the Product'])  # Write header row\n",
    "        writer.writerows(records)  # Write the extracted records to the CSV file"
   ]
  },
  {
   "cell_type": "code",
   "execution_count": 11,
   "id": "2e50e685",
   "metadata": {},
   "outputs": [
    {
     "data": {
      "text/html": [
       "<div>\n",
       "<style scoped>\n",
       "    .dataframe tbody tr th:only-of-type {\n",
       "        vertical-align: middle;\n",
       "    }\n",
       "\n",
       "    .dataframe tbody tr th {\n",
       "        vertical-align: top;\n",
       "    }\n",
       "\n",
       "    .dataframe thead th {\n",
       "        text-align: right;\n",
       "    }\n",
       "</style>\n",
       "<table border=\"1\" class=\"dataframe\">\n",
       "  <thead>\n",
       "    <tr style=\"text-align: right;\">\n",
       "      <th></th>\n",
       "      <th>Description</th>\n",
       "      <th>Price(Rs)</th>\n",
       "      <th>Rating</th>\n",
       "      <th>Review Count</th>\n",
       "      <th>Url of the Product</th>\n",
       "    </tr>\n",
       "  </thead>\n",
       "  <tbody>\n",
       "    <tr>\n",
       "      <th>0</th>\n",
       "      <td>Amazon Basics Low-Profile Wired USB Keyboard w...</td>\n",
       "      <td>17.</td>\n",
       "      <td>4.5 out of 5 stars</td>\n",
       "      <td>4.5</td>\n",
       "      <td>https://www.amazon.com/sspa/click?ie=UTF8&amp;spc=...</td>\n",
       "    </tr>\n",
       "    <tr>\n",
       "      <th>1</th>\n",
       "      <td>Wireless Keyboard and Mouse Combo, cimetech Co...</td>\n",
       "      <td>33.</td>\n",
       "      <td>4.3 out of 5 stars</td>\n",
       "      <td>4.3</td>\n",
       "      <td>https://www.amazon.com/sspa/click?ie=UTF8&amp;spc=...</td>\n",
       "    </tr>\n",
       "    <tr>\n",
       "      <th>2</th>\n",
       "      <td>Dacoity Gaming Keyboard, 104 Keys All-Metal Pa...</td>\n",
       "      <td>26.</td>\n",
       "      <td>4.5 out of 5 stars</td>\n",
       "      <td>Amazon's Choice: Overall Pick</td>\n",
       "      <td>https://www.amazon.com/All-Metal-Dacoity-Multi...</td>\n",
       "    </tr>\n",
       "    <tr>\n",
       "      <th>3</th>\n",
       "      <td>Dilter Wired Keyboard, Full-Sized Typewriter K...</td>\n",
       "      <td>29.</td>\n",
       "      <td>4.5 out of 5 stars</td>\n",
       "      <td>4.5</td>\n",
       "      <td>https://www.amazon.com/Dilter-Full-Sized-Typew...</td>\n",
       "    </tr>\n",
       "    <tr>\n",
       "      <th>4</th>\n",
       "      <td>NPET K10 Wired Gaming Keyboard, LED Backlit, S...</td>\n",
       "      <td>19.</td>\n",
       "      <td>4.5 out of 5 stars</td>\n",
       "      <td>4.5</td>\n",
       "      <td>https://www.amazon.com/NPET-Floating-Keyboard-...</td>\n",
       "    </tr>\n",
       "    <tr>\n",
       "      <th>...</th>\n",
       "      <td>...</td>\n",
       "      <td>...</td>\n",
       "      <td>...</td>\n",
       "      <td>...</td>\n",
       "      <td>...</td>\n",
       "    </tr>\n",
       "    <tr>\n",
       "      <th>435</th>\n",
       "      <td>Corsair K55 PRO LITE RGB Wired Membrane Gaming...</td>\n",
       "      <td>29.</td>\n",
       "      <td>4.6 out of 5 stars</td>\n",
       "      <td>4.6</td>\n",
       "      <td>https://www.amazon.com/Corsair-Backlighting-In...</td>\n",
       "    </tr>\n",
       "    <tr>\n",
       "      <th>436</th>\n",
       "      <td>Lovaky MK98 Wireless Keyboard, 2.4G Ergonomic ...</td>\n",
       "      <td>20.</td>\n",
       "      <td>4.3 out of 5 stars</td>\n",
       "      <td>4.3</td>\n",
       "      <td>https://www.amazon.com/Lovaky-Wireless-Ergonom...</td>\n",
       "    </tr>\n",
       "    <tr>\n",
       "      <th>437</th>\n",
       "      <td>NPET K10 Wired Gaming Keyboard, RGB Backlit, S...</td>\n",
       "      <td>21.</td>\n",
       "      <td>4.7 out of 5 stars</td>\n",
       "      <td>4.7</td>\n",
       "      <td>https://www.amazon.com/NPET-K10-Water-Resistan...</td>\n",
       "    </tr>\n",
       "    <tr>\n",
       "      <th>438</th>\n",
       "      <td>Wireless Keyboard and Mouse Combo, MARVO 2.4G ...</td>\n",
       "      <td>19.</td>\n",
       "      <td>4.3 out of 5 stars</td>\n",
       "      <td>4.3</td>\n",
       "      <td>https://www.amazon.com/Wireless-Keyboard-MARVO...</td>\n",
       "    </tr>\n",
       "    <tr>\n",
       "      <th>439</th>\n",
       "      <td>Amazon Basics 2.4GHz Wireless Computer Keyboar...</td>\n",
       "      <td>22.</td>\n",
       "      <td>4.1 out of 5 stars</td>\n",
       "      <td>4.1</td>\n",
       "      <td>https://www.amazon.com/sspa/click?ie=UTF8&amp;spc=...</td>\n",
       "    </tr>\n",
       "  </tbody>\n",
       "</table>\n",
       "<p>440 rows × 5 columns</p>\n",
       "</div>"
      ],
      "text/plain": [
       "                                           Description Price(Rs)  \\\n",
       "0    Amazon Basics Low-Profile Wired USB Keyboard w...       17.   \n",
       "1    Wireless Keyboard and Mouse Combo, cimetech Co...       33.   \n",
       "2    Dacoity Gaming Keyboard, 104 Keys All-Metal Pa...       26.   \n",
       "3    Dilter Wired Keyboard, Full-Sized Typewriter K...       29.   \n",
       "4    NPET K10 Wired Gaming Keyboard, LED Backlit, S...       19.   \n",
       "..                                                 ...       ...   \n",
       "435  Corsair K55 PRO LITE RGB Wired Membrane Gaming...       29.   \n",
       "436  Lovaky MK98 Wireless Keyboard, 2.4G Ergonomic ...       20.   \n",
       "437  NPET K10 Wired Gaming Keyboard, RGB Backlit, S...       21.   \n",
       "438  Wireless Keyboard and Mouse Combo, MARVO 2.4G ...       19.   \n",
       "439  Amazon Basics 2.4GHz Wireless Computer Keyboar...       22.   \n",
       "\n",
       "                 Rating                   Review Count  \\\n",
       "0    4.5 out of 5 stars                            4.5   \n",
       "1    4.3 out of 5 stars                            4.3   \n",
       "2    4.5 out of 5 stars  Amazon's Choice: Overall Pick   \n",
       "3    4.5 out of 5 stars                            4.5   \n",
       "4    4.5 out of 5 stars                            4.5   \n",
       "..                  ...                            ...   \n",
       "435  4.6 out of 5 stars                            4.6   \n",
       "436  4.3 out of 5 stars                            4.3   \n",
       "437  4.7 out of 5 stars                            4.7   \n",
       "438  4.3 out of 5 stars                            4.3   \n",
       "439  4.1 out of 5 stars                            4.1   \n",
       "\n",
       "                                    Url of the Product  \n",
       "0    https://www.amazon.com/sspa/click?ie=UTF8&spc=...  \n",
       "1    https://www.amazon.com/sspa/click?ie=UTF8&spc=...  \n",
       "2    https://www.amazon.com/All-Metal-Dacoity-Multi...  \n",
       "3    https://www.amazon.com/Dilter-Full-Sized-Typew...  \n",
       "4    https://www.amazon.com/NPET-Floating-Keyboard-...  \n",
       "..                                                 ...  \n",
       "435  https://www.amazon.com/Corsair-Backlighting-In...  \n",
       "436  https://www.amazon.com/Lovaky-Wireless-Ergonom...  \n",
       "437  https://www.amazon.com/NPET-K10-Water-Resistan...  \n",
       "438  https://www.amazon.com/Wireless-Keyboard-MARVO...  \n",
       "439  https://www.amazon.com/sspa/click?ie=UTF8&spc=...  \n",
       "\n",
       "[440 rows x 5 columns]"
      ]
     },
     "metadata": {},
     "output_type": "display_data"
    }
   ],
   "source": [
    "search_query('Keyboard')"
   ]
  },
  {
   "cell_type": "code",
   "execution_count": null,
   "id": "27fd66cc",
   "metadata": {},
   "outputs": [],
   "source": []
  }
 ],
 "metadata": {
  "kernelspec": {
   "display_name": "Python 3 (ipykernel)",
   "language": "python",
   "name": "python3"
  },
  "language_info": {
   "codemirror_mode": {
    "name": "ipython",
    "version": 3
   },
   "file_extension": ".py",
   "mimetype": "text/x-python",
   "name": "python",
   "nbconvert_exporter": "python",
   "pygments_lexer": "ipython3",
   "version": "3.9.12"
  }
 },
 "nbformat": 4,
 "nbformat_minor": 5
}
